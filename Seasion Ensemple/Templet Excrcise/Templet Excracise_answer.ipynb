{
  "nbformat": 4,
  "nbformat_minor": 0,
  "metadata": {
    "kernelspec": {
      "display_name": "Python 3",
      "language": "python",
      "name": "python3"
    },
    "language_info": {
      "codemirror_mode": {
        "name": "ipython",
        "version": 3
      },
      "file_extension": ".py",
      "mimetype": "text/x-python",
      "name": "python",
      "nbconvert_exporter": "python",
      "pygments_lexer": "ipython3",
      "version": "3.7.4"
    },
    "colab": {
      "name": "Templet Excracise.ipynb",
      "provenance": [],
      "toc_visible": true
    }
  },
  "cells": [
    {
      "cell_type": "markdown",
      "metadata": {
        "id": "VRtB27HLMhwA"
      },
      "source": [
        ""
      ]
    },
    {
      "cell_type": "code",
      "metadata": {
        "id": "qLufkiJJMhwK",
        "outputId": "2f501b14-1485-4ab4-850b-cf287f4cbcea",
        "colab": {
          "base_uri": "https://localhost:8080/"
        }
      },
      "source": [
        "pip install scikit-plot"
      ],
      "execution_count": 2,
      "outputs": [
        {
          "output_type": "stream",
          "text": [
            "Collecting scikit-plot\n",
            "  Downloading https://files.pythonhosted.org/packages/7c/47/32520e259340c140a4ad27c1b97050dd3254fdc517b1d59974d47037510e/scikit_plot-0.3.7-py3-none-any.whl\n",
            "Requirement already satisfied: joblib>=0.10 in /usr/local/lib/python3.6/dist-packages (from scikit-plot) (1.0.0)\n",
            "Requirement already satisfied: matplotlib>=1.4.0 in /usr/local/lib/python3.6/dist-packages (from scikit-plot) (3.2.2)\n",
            "Requirement already satisfied: scipy>=0.9 in /usr/local/lib/python3.6/dist-packages (from scikit-plot) (1.4.1)\n",
            "Requirement already satisfied: scikit-learn>=0.18 in /usr/local/lib/python3.6/dist-packages (from scikit-plot) (0.22.2.post1)\n",
            "Requirement already satisfied: pyparsing!=2.0.4,!=2.1.2,!=2.1.6,>=2.0.1 in /usr/local/lib/python3.6/dist-packages (from matplotlib>=1.4.0->scikit-plot) (2.4.7)\n",
            "Requirement already satisfied: numpy>=1.11 in /usr/local/lib/python3.6/dist-packages (from matplotlib>=1.4.0->scikit-plot) (1.19.5)\n",
            "Requirement already satisfied: cycler>=0.10 in /usr/local/lib/python3.6/dist-packages (from matplotlib>=1.4.0->scikit-plot) (0.10.0)\n",
            "Requirement already satisfied: python-dateutil>=2.1 in /usr/local/lib/python3.6/dist-packages (from matplotlib>=1.4.0->scikit-plot) (2.8.1)\n",
            "Requirement already satisfied: kiwisolver>=1.0.1 in /usr/local/lib/python3.6/dist-packages (from matplotlib>=1.4.0->scikit-plot) (1.3.1)\n",
            "Requirement already satisfied: six in /usr/local/lib/python3.6/dist-packages (from cycler>=0.10->matplotlib>=1.4.0->scikit-plot) (1.15.0)\n",
            "Installing collected packages: scikit-plot\n",
            "Successfully installed scikit-plot-0.3.7\n"
          ],
          "name": "stdout"
        }
      ]
    },
    {
      "cell_type": "markdown",
      "metadata": {
        "id": "h5Q9KowTMhwL"
      },
      "source": [
        "# Import Library pandas numpy and model train_test_split,RandomForestClassifier,adabost"
      ]
    },
    {
      "cell_type": "code",
      "metadata": {
        "id": "3Oau4jdbMhwI"
      },
      "source": [
        "import pandas as pd\r\n",
        "import numpy as np\r\n",
        "from sklearn.preprocessing import LabelEncoder\r\n",
        "from sklearn.feature_selection import SelectKBest\r\n",
        "from sklearn.feature_selection import chi2\r\n",
        "from sklearn.utils import resample\r\n",
        "from sklearn.model_selection import train_test_split\r\n",
        "from sklearn import preprocessing\r\n",
        "from sklearn.tree import DecisionTreeClassifier\r\n",
        "from sklearn import ensemble\r\n",
        "from sklearn.linear_model import LogisticRegression\r\n",
        "from sklearn.tree import plot_tree\r\n",
        "from sklearn.ensemble import RandomForestClassifier\r\n",
        "from sklearn.model_selection import GridSearchCV\r\n",
        "from sklearn import metrics\r\n",
        "from sklearn.metrics import accuracy_score, precision_score, recall_score, f1_score\r\n",
        "from sklearn.metrics import classification_report, precision_recall_curve, roc_curve, roc_auc_score\r\n",
        "import scikitplot as skplt\r\n",
        "import matplotlib.pyplot as plt\r\n",
        "import seaborn as sns\r\n",
        "%matplotlib inline"
      ],
      "execution_count": 3,
      "outputs": []
    },
    {
      "cell_type": "markdown",
      "metadata": {
        "id": "AzoqutZIMhwM"
      },
      "source": [
        "# Read Data ,Check data describe and info"
      ]
    },
    {
      "cell_type": "markdown",
      "metadata": {
        "id": "kpb7BEDEMhwM"
      },
      "source": [
        "# dropName,passengerId,Ticket"
      ]
    },
    {
      "cell_type": "markdown",
      "metadata": {
        "id": "iI5Uzx2pMhwO"
      },
      "source": [
        "# Check null and drop one Coulm has more null Value"
      ]
    },
    {
      "cell_type": "markdown",
      "metadata": {
        "id": "dqcIM_mVMhwO"
      },
      "source": [
        "# GetDummiies for Sex and EmbarKed"
      ]
    },
    {
      "cell_type": "markdown",
      "metadata": {
        "id": "VgdakCwhMhwQ"
      },
      "source": [
        "# put inependent Coulm in X and dependent Coulm in y\n"
      ]
    },
    {
      "cell_type": "markdown",
      "metadata": {
        "id": "XyZO7TpHMhwR"
      },
      "source": [
        "# Split data With test Size .2 and random state 0"
      ]
    },
    {
      "cell_type": "markdown",
      "metadata": {
        "id": "OWZ5ZK9BMhwR"
      },
      "source": [
        "# Training Model With RandomForestClassifier andAdaBoostClassifie, make n_n_estimator=100 "
      ]
    }
  ]
}